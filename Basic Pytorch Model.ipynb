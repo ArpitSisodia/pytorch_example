{
 "cells": [
  {
   "cell_type": "code",
   "execution_count": 1,
   "id": "8a66b0a0",
   "metadata": {},
   "outputs": [],
   "source": [
    "import torch\n",
    "import torch.nn as nn"
   ]
  },
  {
   "cell_type": "code",
   "execution_count": 2,
   "id": "cb47d512",
   "metadata": {},
   "outputs": [],
   "source": [
    "# define Model Net class should have init and forward method.\n",
    "import torch.nn as nn\n",
    "import torch\n",
    "class Net(nn.Module):\n",
    "    def __init__( self, input_size,hidden_state, output_class):# constructor of Net class\n",
    "        super(Net, self).__init__() # calling constructor of base class ( initilizing)\n",
    "        self.fc1=nn.Linear(input_size,hidden_state) # objects of classes\n",
    "        self.relu=nn.ReLU()\n",
    "        self.fc2=nn.Linear(hidden_state,output_class)\n",
    "        self.softmax=nn.Softmax(dim=1) # along the axis= row ( for every row)\n",
    "        \n",
    "    def forward(self, x):\n",
    "        o1=self.fc1(x)\n",
    "        o1=self.relu(o1)\n",
    "        o1=self.fc2(o1)\n",
    "        o1=self.softmax(o1)\n",
    "        return(o1)\n",
    "        \n",
    " "
   ]
  },
  {
   "cell_type": "code",
   "execution_count": 3,
   "id": "5cbaa3b6",
   "metadata": {},
   "outputs": [],
   "source": [
    "# creating input output tensors\n",
    "N, n_dim, hid, n_out=  64, 1000,100, 10\n",
    "x=torch.randn(N,n_dim)\n",
    "y=torch.rand(N, n_out)"
   ]
  },
  {
   "cell_type": "code",
   "execution_count": 5,
   "id": "1b55224a",
   "metadata": {},
   "outputs": [],
   "source": [
    "from torch.utils.data import DataLoader#  ( DataLader= class, constrcuted by constructor with batch size, shuffle etc)\n",
    "# kind of generator.\n",
    "\n",
    "from torch.utils.data import TensorDataset # pre-defined class to represent data as tensors, torch.util.data.dataset is abstract class\n",
    "# defined used defined tensor\n",
    "\n",
    "\n",
    "train_loader=  DataLoader(TensorDataset(x,y), batch_size=8)\n",
    "criterian= nn.CrossEntropyLoss() # creating ocject of loff function\n",
    "net=Net(n_dim, hid, n_out) # object of model\n",
    "optimizer= torch.optim.SGD(net.parameters(),lr=.001) # optmizer to be used while training "
   ]
  },
  {
   "cell_type": "code",
   "execution_count": 6,
   "id": "13ddc26d",
   "metadata": {},
   "outputs": [],
   "source": [
    "epochs=100\n",
    "\n",
    "for i in range(epochs):\n",
    "    for x, y in train_loader:\n",
    "        prediction= net(x)\n",
    "        optimizer.zero_grad()\n",
    "        loss= criterian(prediction,y) # calculates loss\n",
    "        loss.backward() # calculate gradient of loss function respect to various parameters\n",
    "        optimizer.step() # takes computed gradient and updates model parameter"
   ]
  },
  {
   "cell_type": "code",
   "execution_count": 8,
   "id": "3f2c13e8",
   "metadata": {},
   "outputs": [
    {
     "data": {
      "text/plain": [
       "Net(\n",
       "  (fc1): Linear(in_features=1000, out_features=100, bias=True)\n",
       "  (relu): ReLU()\n",
       "  (fc2): Linear(in_features=100, out_features=10, bias=True)\n",
       "  (softmax): Softmax(dim=1)\n",
       ")"
      ]
     },
     "execution_count": 8,
     "metadata": {},
     "output_type": "execute_result"
    }
   ],
   "source": [
    "net "
   ]
  },
  {
   "cell_type": "code",
   "execution_count": 9,
   "id": "f6520e64",
   "metadata": {},
   "outputs": [
    {
     "data": {
      "text/plain": [
       "tensor([[0.1159, 0.0822, 0.1037, 0.1024, 0.1441, 0.0866, 0.0891, 0.0917, 0.0748,\n",
       "         0.1097],\n",
       "        [0.0801, 0.0898, 0.1013, 0.0963, 0.1888, 0.0873, 0.0806, 0.0740, 0.0995,\n",
       "         0.1023],\n",
       "        [0.0835, 0.1157, 0.0697, 0.1358, 0.1046, 0.0933, 0.1153, 0.1093, 0.0785,\n",
       "         0.0942],\n",
       "        [0.0707, 0.1579, 0.0955, 0.0915, 0.0876, 0.0944, 0.1142, 0.1031, 0.0736,\n",
       "         0.1114],\n",
       "        [0.0834, 0.1134, 0.1026, 0.1086, 0.0976, 0.1060, 0.0850, 0.1192, 0.0814,\n",
       "         0.1026],\n",
       "        [0.1251, 0.1086, 0.0566, 0.0976, 0.0928, 0.1156, 0.1076, 0.1087, 0.0594,\n",
       "         0.1280],\n",
       "        [0.0763, 0.1041, 0.1061, 0.0910, 0.0985, 0.0843, 0.1082, 0.1319, 0.1010,\n",
       "         0.0986],\n",
       "        [0.0902, 0.1128, 0.0968, 0.1020, 0.1251, 0.1068, 0.1053, 0.0819, 0.0712,\n",
       "         0.1081]], grad_fn=<SoftmaxBackward0>)"
      ]
     },
     "execution_count": 9,
     "metadata": {},
     "output_type": "execute_result"
    }
   ],
   "source": [
    "# predicting by passing test tensor-\n",
    "net(x)"
   ]
  },
  {
   "cell_type": "code",
   "execution_count": null,
   "id": "eb8ddcce",
   "metadata": {},
   "outputs": [],
   "source": []
  }
 ],
 "metadata": {
  "kernelspec": {
   "display_name": "Python 3 (ipykernel)",
   "language": "python",
   "name": "python3"
  },
  "language_info": {
   "codemirror_mode": {
    "name": "ipython",
    "version": 3
   },
   "file_extension": ".py",
   "mimetype": "text/x-python",
   "name": "python",
   "nbconvert_exporter": "python",
   "pygments_lexer": "ipython3",
   "version": "3.9.13"
  }
 },
 "nbformat": 4,
 "nbformat_minor": 5
}
